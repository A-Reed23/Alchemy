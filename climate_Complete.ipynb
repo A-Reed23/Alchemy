{
 "cells": [
  {
   "cell_type": "code",
   "execution_count": 1,
   "metadata": {},
   "outputs": [],
   "source": [
    "%matplotlib inline\n",
    "from matplotlib import style\n",
    "style.use('fivethirtyeight')\n",
    "import matplotlib.pyplot as plt"
   ]
  },
  {
   "cell_type": "code",
   "execution_count": 2,
   "metadata": {},
   "outputs": [],
   "source": [
    "import numpy as np\n",
    "import pandas as pd\n",
    "from datetime import datetime\n",
    "import datetime as dt\n",
    "from sqlalchemy import desc"
   ]
  },
  {
   "cell_type": "markdown",
   "metadata": {},
   "source": [
    "# Reflect Tables into SQLAlchemy ORM"
   ]
  },
  {
   "cell_type": "code",
   "execution_count": 3,
   "metadata": {},
   "outputs": [],
   "source": [
    "# Python SQL toolkit and Object Relational Mapper\n",
    "import sqlalchemy\n",
    "from sqlalchemy.ext.automap import automap_base\n",
    "from sqlalchemy.orm import Session\n",
    "from sqlalchemy import create_engine, func, inspect\n",
    "from sqlalchemy import Column, String, Float, Integer, text"
   ]
  },
  {
   "cell_type": "code",
   "execution_count": 4,
   "metadata": {},
   "outputs": [],
   "source": [
    "# create engine to hawaii.sqlite\n",
    "path = \"Resources/tomato.sqlite\"\n",
    "engine = create_engine(f\"sqlite:///{path}\")"
   ]
  },
  {
   "cell_type": "code",
   "execution_count": 5,
   "metadata": {},
   "outputs": [],
   "source": [
    "# reflect an existing database into a new model\n",
    "\n",
    "# reflect the tables\n",
    "Base = automap_base()\n",
    "# reflect the tables\n",
    "Base.prepare(autoload_with=engine)\n",
    "#Base.prepare(engine, reflect=True)"
   ]
  },
  {
   "cell_type": "code",
   "execution_count": 6,
   "metadata": {},
   "outputs": [
    {
     "data": {
      "text/plain": [
       "['measurement', 'station']"
      ]
     },
     "execution_count": 6,
     "metadata": {},
     "output_type": "execute_result"
    }
   ],
   "source": [
    "# View all of the classes that automap found\n",
    "Base.classes.keys()"
   ]
  },
  {
   "cell_type": "code",
   "execution_count": 7,
   "metadata": {},
   "outputs": [
    {
     "data": {
      "text/plain": [
       "['measurement', 'station']"
      ]
     },
     "execution_count": 7,
     "metadata": {},
     "output_type": "execute_result"
    }
   ],
   "source": [
    "from sqlalchemy import create_engine, inspect\n",
    "inspector = inspect(engine)\n",
    "inspector.get_table_names()"
   ]
  },
  {
   "cell_type": "code",
   "execution_count": 8,
   "metadata": {},
   "outputs": [],
   "source": [
    "# name tables\n",
    "# Save references to each table\n",
    "mes = Base.classes.measurement\n",
    "\n",
    "st = Base.classes.station\n"
   ]
  },
  {
   "cell_type": "code",
   "execution_count": 9,
   "metadata": {},
   "outputs": [
    {
     "name": "stdout",
     "output_type": "stream",
     "text": [
      "id INTEGER\n",
      "station TEXT\n",
      "date TEXT\n",
      "prcp FLOAT\n",
      "tobs FLOAT\n"
     ]
    }
   ],
   "source": [
    "# Create a session\n",
    "session = Session(bind= engine)\n",
    "# Display Station row's columns and data in dictionary format\n",
    "inspector = inspect(engine)\n",
    "columns = inspector.get_columns('measurement')\n",
    "for column in columns:\n",
    "    print(column[\"name\"], column[\"type\"])"
   ]
  },
  {
   "cell_type": "code",
   "execution_count": 10,
   "metadata": {
    "scrolled": true
   },
   "outputs": [
    {
     "name": "stdout",
     "output_type": "stream",
     "text": [
      "id INTEGER\n",
      "station TEXT\n",
      "name TEXT\n",
      "latitude FLOAT\n",
      "longitude FLOAT\n",
      "elevation FLOAT\n"
     ]
    }
   ],
   "source": [
    "# Display measurment row's columns and data in dictionary format\n",
    "columns = inspector.get_columns('station')\n",
    "for column in columns:\n",
    "    print(column[\"name\"], column[\"type\"])"
   ]
  },
  {
   "cell_type": "markdown",
   "metadata": {},
   "source": [
    "# Exploratory Precipitation Analysis"
   ]
  },
  {
   "cell_type": "code",
   "execution_count": 11,
   "metadata": {},
   "outputs": [
    {
     "data": {
      "text/plain": [
       "'2017-08-23'"
      ]
     },
     "execution_count": 11,
     "metadata": {},
     "output_type": "execute_result"
    }
   ],
   "source": [
    "# Find the most recent date in the data set.\n",
    "lst = session.query(mes.date).order_by(mes.date.desc()).first()\n",
    "lst[0]"
   ]
  },
  {
   "cell_type": "code",
   "execution_count": 12,
   "metadata": {},
   "outputs": [
    {
     "data": {
      "image/png": "[encoded data removed]",
      "text/plain": [
       "<Figure size 640x480 with 1 Axes>"
      ]
     },
     "metadata": {},
     "output_type": "display_data"
    }
   ],
   "source": [
    "# Design a query to retrieve the last 12 months of precipitation data and plot the results. \n",
    "# Starting from the most recent data point in the database. \n",
    "\n",
    "# Calculate the date one year from the last date in data set.\n",
    "year_ago = dt.datetime.strptime(lst[0], '%Y-%m-%d') - dt.timedelta(days=365)\n",
    "year_ago\n",
    "# Perform a query to retrieve the data and precipitation scores\n",
    "an_pre = session.query(mes.date, mes.prcp).filter(mes.date > year_ago)\n",
    "\n",
    "#engine.execute(text(\"select date, prcp from measurement where date > '2017-8-23'\")).fetchall()\n",
    "\n",
    "# Save the query results as a Pandas DataFrame. Explicitly set the column names\n",
    "df =pd.DataFrame(an_pre)\n",
    "df['date']= df['date'].apply(lambda x: dt.datetime.strptime(x, '%Y-%m-%d'))\n",
    "df['month']= df['date'].apply(lambda x:x.strftime('%Y-%m'))\n",
    "\n",
    "# Sort the dataframe by date\n",
    "df.sort_values('month')\n",
    "\n",
    "# Use Pandas Plotting with Matplotlib to plot the data\n",
    "\n",
    "mon_prc = df.groupby('month')['prcp'].sum()\n",
    "mon_prc.plot.bar()\n",
    "plt.tight_layout()\n",
    "plt.show()"
   ]
  },
  {
   "cell_type": "code",
   "execution_count": 13,
   "metadata": {},
   "outputs": [
    {
     "data": {
      "text/html": [
       "<div>\n",
       "<style scoped>\n",
       "    .dataframe tbody tr th:only-of-type {\n",
       "        vertical-align: middle;\n",
       "    }\n",
       "\n",
       "    .dataframe tbody tr th {\n",
       "        vertical-align: top;\n",
       "    }\n",
       "\n",
       "    .dataframe thead tr th {\n",
       "        text-align: left;\n",
       "    }\n",
       "\n",
       "    .dataframe thead tr:last-of-type th {\n",
       "        text-align: right;\n",
       "    }\n",
       "</style>\n",
       "<table border=\"1\" class=\"dataframe\">\n",
       "  <thead>\n",
       "    <tr>\n",
       "      <th></th>\n",
       "      <th colspan=\"8\" halign=\"left\">prcp</th>\n",
       "    </tr>\n",
       "    <tr>\n",
       "      <th></th>\n",
       "      <th>count</th>\n",
       "      <th>mean</th>\n",
       "      <th>std</th>\n",
       "      <th>min</th>\n",
       "      <th>25%</th>\n",
       "      <th>50%</th>\n",
       "      <th>75%</th>\n",
       "      <th>max</th>\n",
       "    </tr>\n",
       "    <tr>\n",
       "      <th>month</th>\n",
       "      <th></th>\n",
       "      <th></th>\n",
       "      <th></th>\n",
       "      <th></th>\n",
       "      <th></th>\n",
       "      <th></th>\n",
       "      <th></th>\n",
       "      <th></th>\n",
       "    </tr>\n",
       "  </thead>\n",
       "  <tbody>\n",
       "    <tr>\n",
       "      <th>2016-08</th>\n",
       "      <td>47.0</td>\n",
       "      <td>0.385106</td>\n",
       "      <td>0.708050</td>\n",
       "      <td>0.0</td>\n",
       "      <td>0.005</td>\n",
       "      <td>0.08</td>\n",
       "      <td>0.2250</td>\n",
       "      <td>2.46</td>\n",
       "    </tr>\n",
       "    <tr>\n",
       "      <th>2016-09</th>\n",
       "      <td>173.0</td>\n",
       "      <td>0.285549</td>\n",
       "      <td>0.662214</td>\n",
       "      <td>0.0</td>\n",
       "      <td>0.010</td>\n",
       "      <td>0.07</td>\n",
       "      <td>0.2700</td>\n",
       "      <td>6.70</td>\n",
       "    </tr>\n",
       "    <tr>\n",
       "      <th>2016-10</th>\n",
       "      <td>179.0</td>\n",
       "      <td>0.121620</td>\n",
       "      <td>0.344809</td>\n",
       "      <td>0.0</td>\n",
       "      <td>0.000</td>\n",
       "      <td>0.01</td>\n",
       "      <td>0.0800</td>\n",
       "      <td>3.46</td>\n",
       "    </tr>\n",
       "    <tr>\n",
       "      <th>2016-11</th>\n",
       "      <td>171.0</td>\n",
       "      <td>0.120234</td>\n",
       "      <td>0.342695</td>\n",
       "      <td>0.0</td>\n",
       "      <td>0.000</td>\n",
       "      <td>0.02</td>\n",
       "      <td>0.0900</td>\n",
       "      <td>2.87</td>\n",
       "    </tr>\n",
       "    <tr>\n",
       "      <th>2016-12</th>\n",
       "      <td>178.0</td>\n",
       "      <td>0.199494</td>\n",
       "      <td>0.342967</td>\n",
       "      <td>0.0</td>\n",
       "      <td>0.020</td>\n",
       "      <td>0.06</td>\n",
       "      <td>0.2475</td>\n",
       "      <td>2.37</td>\n",
       "    </tr>\n",
       "    <tr>\n",
       "      <th>2017-01</th>\n",
       "      <td>170.0</td>\n",
       "      <td>0.070294</td>\n",
       "      <td>0.276047</td>\n",
       "      <td>0.0</td>\n",
       "      <td>0.000</td>\n",
       "      <td>0.00</td>\n",
       "      <td>0.0175</td>\n",
       "      <td>2.64</td>\n",
       "    </tr>\n",
       "    <tr>\n",
       "      <th>2017-02</th>\n",
       "      <td>162.0</td>\n",
       "      <td>0.241111</td>\n",
       "      <td>0.672922</td>\n",
       "      <td>0.0</td>\n",
       "      <td>0.000</td>\n",
       "      <td>0.00</td>\n",
       "      <td>0.0600</td>\n",
       "      <td>5.04</td>\n",
       "    </tr>\n",
       "    <tr>\n",
       "      <th>2017-03</th>\n",
       "      <td>169.0</td>\n",
       "      <td>0.175266</td>\n",
       "      <td>0.431165</td>\n",
       "      <td>0.0</td>\n",
       "      <td>0.000</td>\n",
       "      <td>0.00</td>\n",
       "      <td>0.0800</td>\n",
       "      <td>2.40</td>\n",
       "    </tr>\n",
       "    <tr>\n",
       "      <th>2017-04</th>\n",
       "      <td>171.0</td>\n",
       "      <td>0.321111</td>\n",
       "      <td>0.702469</td>\n",
       "      <td>0.0</td>\n",
       "      <td>0.000</td>\n",
       "      <td>0.02</td>\n",
       "      <td>0.3100</td>\n",
       "      <td>6.25</td>\n",
       "    </tr>\n",
       "    <tr>\n",
       "      <th>2017-05</th>\n",
       "      <td>167.0</td>\n",
       "      <td>0.151317</td>\n",
       "      <td>0.315384</td>\n",
       "      <td>0.0</td>\n",
       "      <td>0.000</td>\n",
       "      <td>0.02</td>\n",
       "      <td>0.1250</td>\n",
       "      <td>2.17</td>\n",
       "    </tr>\n",
       "    <tr>\n",
       "      <th>2017-06</th>\n",
       "      <td>171.0</td>\n",
       "      <td>0.120000</td>\n",
       "      <td>0.217726</td>\n",
       "      <td>0.0</td>\n",
       "      <td>0.000</td>\n",
       "      <td>0.02</td>\n",
       "      <td>0.1500</td>\n",
       "      <td>1.69</td>\n",
       "    </tr>\n",
       "    <tr>\n",
       "      <th>2017-07</th>\n",
       "      <td>176.0</td>\n",
       "      <td>0.134773</td>\n",
       "      <td>0.386084</td>\n",
       "      <td>0.0</td>\n",
       "      <td>0.000</td>\n",
       "      <td>0.02</td>\n",
       "      <td>0.1125</td>\n",
       "      <td>4.00</td>\n",
       "    </tr>\n",
       "    <tr>\n",
       "      <th>2017-08</th>\n",
       "      <td>81.0</td>\n",
       "      <td>0.063951</td>\n",
       "      <td>0.126023</td>\n",
       "      <td>0.0</td>\n",
       "      <td>0.000</td>\n",
       "      <td>0.00</td>\n",
       "      <td>0.0600</td>\n",
       "      <td>0.56</td>\n",
       "    </tr>\n",
       "  </tbody>\n",
       "</table>\n",
       "</div>"
      ],
      "text/plain": [
       "          prcp                                                    \n",
       "         count      mean       std  min    25%   50%     75%   max\n",
       "month                                                             \n",
       "2016-08   47.0  0.385106  0.708050  0.0  0.005  0.08  0.2250  2.46\n",
       "2016-09  173.0  0.285549  0.662214  0.0  0.010  0.07  0.2700  6.70\n",
       "2016-10  179.0  0.121620  0.344809  0.0  0.000  0.01  0.0800  3.46\n",
       "2016-11  171.0  0.120234  0.342695  0.0  0.000  0.02  0.0900  2.87\n",
       "2016-12  178.0  0.199494  0.342967  0.0  0.020  0.06  0.2475  2.37\n",
       "2017-01  170.0  0.070294  0.276047  0.0  0.000  0.00  0.0175  2.64\n",
       "2017-02  162.0  0.241111  0.672922  0.0  0.000  0.00  0.0600  5.04\n",
       "2017-03  169.0  0.175266  0.431165  0.0  0.000  0.00  0.0800  2.40\n",
       "2017-04  171.0  0.321111  0.702469  0.0  0.000  0.02  0.3100  6.25\n",
       "2017-05  167.0  0.151317  0.315384  0.0  0.000  0.02  0.1250  2.17\n",
       "2017-06  171.0  0.120000  0.217726  0.0  0.000  0.02  0.1500  1.69\n",
       "2017-07  176.0  0.134773  0.386084  0.0  0.000  0.02  0.1125  4.00\n",
       "2017-08   81.0  0.063951  0.126023  0.0  0.000  0.00  0.0600  0.56"
      ]
     },
     "execution_count": 13,
     "metadata": {},
     "output_type": "execute_result"
    }
   ],
   "source": [
    "# Use Pandas to calculate the summary statistics for the precipitation data\n",
    "df.groupby('month').describe()"
   ]
  },
  {
   "cell_type": "code",
   "execution_count": 14,
   "metadata": {},
   "outputs": [
    {
     "data": {
      "text/html": [
       "<div>\n",
       "<style scoped>\n",
       "    .dataframe tbody tr th:only-of-type {\n",
       "        vertical-align: middle;\n",
       "    }\n",
       "\n",
       "    .dataframe tbody tr th {\n",
       "        vertical-align: top;\n",
       "    }\n",
       "\n",
       "    .dataframe thead th {\n",
       "        text-align: right;\n",
       "    }\n",
       "</style>\n",
       "<table border=\"1\" class=\"dataframe\">\n",
       "  <thead>\n",
       "    <tr style=\"text-align: right;\">\n",
       "      <th></th>\n",
       "      <th>Station</th>\n",
       "      <th>Avg_Rain</th>\n",
       "      <th>Avg_Temp</th>\n",
       "    </tr>\n",
       "  </thead>\n",
       "  <tbody>\n",
       "    <tr>\n",
       "      <th>0</th>\n",
       "      <td>USC00513117</td>\n",
       "      <td>0.141404</td>\n",
       "      <td>73.269006</td>\n",
       "    </tr>\n",
       "    <tr>\n",
       "      <th>1</th>\n",
       "      <td>USC00514830</td>\n",
       "      <td>0.125720</td>\n",
       "      <td>77.151316</td>\n",
       "    </tr>\n",
       "    <tr>\n",
       "      <th>2</th>\n",
       "      <td>USC00516128</td>\n",
       "      <td>0.449878</td>\n",
       "      <td>72.086207</td>\n",
       "    </tr>\n",
       "    <tr>\n",
       "      <th>3</th>\n",
       "      <td>USC00517948</td>\n",
       "      <td>0.076500</td>\n",
       "      <td>74.752747</td>\n",
       "    </tr>\n",
       "    <tr>\n",
       "      <th>4</th>\n",
       "      <td>USC00519281</td>\n",
       "      <td>0.194416</td>\n",
       "      <td>73.096866</td>\n",
       "    </tr>\n",
       "    <tr>\n",
       "      <th>5</th>\n",
       "      <td>USC00519397</td>\n",
       "      <td>0.044944</td>\n",
       "      <td>75.194444</td>\n",
       "    </tr>\n",
       "    <tr>\n",
       "      <th>6</th>\n",
       "      <td>USC00519523</td>\n",
       "      <td>0.121374</td>\n",
       "      <td>76.961310</td>\n",
       "    </tr>\n",
       "  </tbody>\n",
       "</table>\n",
       "</div>"
      ],
      "text/plain": [
       "       Station  Avg_Rain   Avg_Temp\n",
       "0  USC00513117  0.141404  73.269006\n",
       "1  USC00514830  0.125720  77.151316\n",
       "2  USC00516128  0.449878  72.086207\n",
       "3  USC00517948  0.076500  74.752747\n",
       "4  USC00519281  0.194416  73.096866\n",
       "5  USC00519397  0.044944  75.194444\n",
       "6  USC00519523  0.121374  76.961310"
      ]
     },
     "execution_count": 14,
     "metadata": {},
     "output_type": "execute_result"
    }
   ],
   "source": [
    "sum_f = session.query(mes.station, func.avg(mes.prcp),\n",
    "                       func.avg(mes.tobs)).filter(mes.date > year_ago).group_by(mes.station)\n",
    "sum_df = pd.DataFrame(sum_f, columns= ['Station', 'Avg_Rain', 'Avg_Temp'])\n",
    "\n",
    "sum_df"
   ]
  },
  {
   "cell_type": "markdown",
   "metadata": {},
   "source": [
    "The Average rain in the last year of collection varied form a low of 0.07 in January (from 170 rain collections) to 0.39 in August (form 47 collections). While the stations had an average rain that varied from 0.04 to 0.45. Whlie the temprature varied between 72 and 77 degrees."
   ]
  },
  {
   "cell_type": "markdown",
   "metadata": {},
   "source": [
    "# Exploratory Station Analysis"
   ]
  },
  {
   "cell_type": "code",
   "execution_count": 15,
   "metadata": {},
   "outputs": [
    {
     "data": {
      "text/plain": [
       "9"
      ]
     },
     "execution_count": 15,
     "metadata": {},
     "output_type": "execute_result"
    }
   ],
   "source": [
    "# Design a query to calculate the total number of stations in the dataset\n",
    "st_count= session.query(st).count()\n",
    "st_count"
   ]
  },
  {
   "cell_type": "code",
   "execution_count": 16,
   "metadata": {
    "scrolled": true
   },
   "outputs": [
    {
     "name": "stdout",
     "output_type": "stream",
     "text": [
      "('USC00519281', 2772)\n",
      "('USC00519397', 2724)\n",
      "('USC00513117', 2709)\n",
      "('USC00519523', 2669)\n",
      "('USC00516128', 2612)\n",
      "('USC00514830', 2202)\n",
      "('USC00511918', 1979)\n",
      "('USC00517948', 1372)\n",
      "('USC00518838', 511)\n"
     ]
    }
   ],
   "source": [
    "# Design a query to find the most active stations (i.e. which stations have the most rows?)\n",
    "# List the stations and their counts in descending order. \n",
    "\n",
    "\n",
    "st_ct = session.query(mes.station, func.count(mes.station)).group_by(mes.station)\\\n",
    "    .order_by(func.count(mes.station).desc()).all()\n",
    "for st in st_ct:\n",
    "    print(st)"
   ]
  },
  {
   "cell_type": "code",
   "execution_count": 17,
   "metadata": {},
   "outputs": [
    {
     "data": {
      "text/html": [
       "<div>\n",
       "<style scoped>\n",
       "    .dataframe tbody tr th:only-of-type {\n",
       "        vertical-align: middle;\n",
       "    }\n",
       "\n",
       "    .dataframe tbody tr th {\n",
       "        vertical-align: top;\n",
       "    }\n",
       "\n",
       "    .dataframe thead th {\n",
       "        text-align: right;\n",
       "    }\n",
       "</style>\n",
       "<table border=\"1\" class=\"dataframe\">\n",
       "  <thead>\n",
       "    <tr style=\"text-align: right;\">\n",
       "      <th></th>\n",
       "      <th>min temp</th>\n",
       "      <th>max temp</th>\n",
       "      <th>avg temp</th>\n",
       "    </tr>\n",
       "  </thead>\n",
       "  <tbody>\n",
       "    <tr>\n",
       "      <th>0</th>\n",
       "      <td>54.0</td>\n",
       "      <td>85.0</td>\n",
       "      <td>71.663781</td>\n",
       "    </tr>\n",
       "  </tbody>\n",
       "</table>\n",
       "</div>"
      ],
      "text/plain": [
       "   min temp  max temp   avg temp\n",
       "0      54.0      85.0  71.663781"
      ]
     },
     "execution_count": 17,
     "metadata": {},
     "output_type": "execute_result"
    }
   ],
   "source": [
    "# Using the most active station id from the previous query, calculate the lowest, highest, and average temperature.\n",
    "m_act = 'USC00519281'\n",
    "st_act = session.query(func.min(mes.tobs), func.max(mes.tobs), func.avg(mes.tobs))\\\n",
    "    .filter(mes.station== m_act).all()\n",
    "tdf= pd.DataFrame(st_act, columns = ['min temp', 'max temp', 'avg temp'])\n",
    "tdf"
   ]
  },
  {
   "cell_type": "code",
   "execution_count": 18,
   "metadata": {},
   "outputs": [
    {
     "data": {
      "image/png": "[encoded data removed]",
      "text/plain": [
       "<Figure size 640x480 with 1 Axes>"
      ]
     },
     "metadata": {},
     "output_type": "display_data"
    }
   ],
   "source": [
    "# Using the most active station id\n",
    "# Query the last 12 months of temperature observation data for this station and plot the results as a histogram\n",
    "st_tobs = session.query(mes.tobs)\\\n",
    "    .filter(mes.station == m_act)\\\n",
    "    .filter(mes.date>= year_ago).all()\n",
    "st_tobs\n",
    "hdf = pd.DataFrame(st_tobs, columns= ['tobs'])\n",
    "hdf.plot.hist(bins = 12)\n",
    "plt.xlabel('Temprature');\n",
    "#plt.show()"
   ]
  },
  {
   "cell_type": "markdown",
   "metadata": {},
   "source": [
    "# Close Session"
   ]
  },
  {
   "cell_type": "code",
   "execution_count": 19,
   "metadata": {},
   "outputs": [],
   "source": [
    "# Close Session\n",
    "session.close()"
   ]
  },
  {
   "cell_type": "code",
   "execution_count": null,
   "metadata": {},
   "outputs": [],
   "source": []
  }
 ],
 "metadata": {
  "anaconda-cloud": {},
  "kernel_info": {
   "name": "python3"
  },
  "kernelspec": {
   "display_name": "Python 3 (ipykernel)",
   "language": "python",
   "name": "python3"
  },
  "language_info": {
   "codemirror_mode": {
    "name": "ipython",
    "version": 3
   },
   "file_extension": ".py",
   "mimetype": "text/x-python",
   "name": "python",
   "nbconvert_exporter": "python",
   "pygments_lexer": "ipython3",
   "version": "3.11.4"
  },
  "nteract": {
   "version": "0.12.3"
  },
  "varInspector": {
   "cols": {
    "lenName": 16,
    "lenType": 16,
    "lenVar": 40
   },
   "kernels_config": {
    "python": {
     "delete_cmd_postfix": "",
     "delete_cmd_prefix": "del ",
     "library": "var_list.py",
     "varRefreshCmd": "print(var_dic_list())"
    },
    "r": {
     "delete_cmd_postfix": ") ",
     "delete_cmd_prefix": "rm(",
     "library": "var_list.r",
     "varRefreshCmd": "cat(var_dic_list()) "
    }
   },
   "types_to_exclude": [
    "module",
    "function",
    "builtin_function_or_method",
    "instance",
    "_Feature"
   ],
   "window_display": false
  }
 },
 "nbformat": 4,
 "nbformat_minor": 2
}
